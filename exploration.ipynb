{
 "cells": [
  {
   "cell_type": "markdown",
   "metadata": {},
   "source": [
    "# Airline on time performance\n",
    "## by Carolina Negrelli\n",
    "\n",
    "## Preliminary Wrangling\n",
    "\n",
    "> In this project I'm going to analyze a data set with information about flights in the United States. "
   ]
  },
  {
   "cell_type": "code",
   "execution_count": 28,
   "metadata": {},
   "outputs": [],
   "source": [
    "# import all packages and set plots to be embedded inline\n",
    "import numpy as np\n",
    "import pandas as pd\n",
    "import matplotlib.pyplot as plt\n",
    "import seaborn as sb\n",
    "import glob\n",
    "\n",
    "%matplotlib inline"
   ]
  },
  {
   "cell_type": "markdown",
   "metadata": {},
   "source": [
    "> This data set is one of the selected by udacity. But the file has been deleted from the source given in the dataset options (http://stat-computing.org/dataexpo/2009/the-data.html), insteed I had to go to the original source and download the full table (https://www.transtats.bts.gov/DL_SelectFields.asp). I downloaded the data from January 2019 to December 2019."
   ]
  },
  {
   "cell_type": "code",
   "execution_count": 29,
   "metadata": {},
   "outputs": [
    {
     "name": "stderr",
     "output_type": "stream",
     "text": [
      "/home/caro/anaconda3/envs/py3/lib/python3.7/site-packages/IPython/core/interactiveshell.py:3051: DtypeWarning: Columns (48,76,77,84) have mixed types.Specify dtype option on import or set low_memory=False.\n",
      "  interactivity=interactivity, compiler=compiler, result=result)\n",
      "/home/caro/anaconda3/envs/py3/lib/python3.7/site-packages/IPython/core/interactiveshell.py:3051: DtypeWarning: Columns (48,69,76,77,84) have mixed types.Specify dtype option on import or set low_memory=False.\n",
      "  interactivity=interactivity, compiler=compiler, result=result)\n",
      "/home/caro/anaconda3/envs/py3/lib/python3.7/site-packages/IPython/core/interactiveshell.py:3051: DtypeWarning: Columns (48,76,77,84,85,92) have mixed types.Specify dtype option on import or set low_memory=False.\n",
      "  interactivity=interactivity, compiler=compiler, result=result)\n",
      "/home/caro/anaconda3/envs/py3/lib/python3.7/site-packages/IPython/core/interactiveshell.py:3051: DtypeWarning: Columns (48,77,84) have mixed types.Specify dtype option on import or set low_memory=False.\n",
      "  interactivity=interactivity, compiler=compiler, result=result)\n"
     ]
    }
   ],
   "source": [
    "#path = r'C:\\DRO\\DCL_rawdata_files' # use your path\n",
    "all_files = glob.glob(\"data/*.csv\")\n",
    "\n",
    "li = []\n",
    "\n",
    "for filename in all_files:\n",
    "    df = pd.read_csv(filename, index_col=None, header=0)\n",
    "    li.append(df)\n",
    "\n",
    "frame = pd.concat(li, axis=0, ignore_index=True)"
   ]
  },
  {
   "cell_type": "markdown",
   "metadata": {},
   "source": [
    "> I will keep only the columns described on the source given by Udacity. I will drop the column Year since it's olny data from 2019. Three of the columns have another name: TailNum -> Tail_Number, FlightNum -> Flight_Number_Reporting_Airline, UniqueCarrier -> Reporting_Airline"
   ]
  },
  {
   "cell_type": "code",
   "execution_count": 34,
   "metadata": {},
   "outputs": [],
   "source": [
    "flights = frame[['Month','DayofMonth','DayOfWeek','DepTime','CRSDepTime','ArrTime','CRSArrTime','Reporting_Airline','Flight_Number_Reporting_Airline','Tail_Number','ActualElapsedTime','CRSElapsedTime','AirTime','ArrDelay','DepDelay','Origin','Dest','Distance','TaxiIn','TaxiOut','Cancelled','CancellationCode','Diverted','CarrierDelay','WeatherDelay','NASDelay','SecurityDelay','LateAircraftDelay']]"
   ]
  },
  {
   "cell_type": "markdown",
   "metadata": {},
   "source": [
    "> Let's take a look on the dataframe"
   ]
  },
  {
   "cell_type": "code",
   "execution_count": 35,
   "metadata": {},
   "outputs": [
    {
     "data": {
      "text/plain": [
       "(7422037, 28)"
      ]
     },
     "execution_count": 35,
     "metadata": {},
     "output_type": "execute_result"
    }
   ],
   "source": [
    "flights.shape"
   ]
  },
  {
   "cell_type": "code",
   "execution_count": 36,
   "metadata": {},
   "outputs": [
    {
     "data": {
      "text/plain": [
       "Index(['Month', 'DayofMonth', 'DayOfWeek', 'DepTime', 'CRSDepTime', 'ArrTime',\n",
       "       'CRSArrTime', 'Reporting_Airline', 'Flight_Number_Reporting_Airline',\n",
       "       'Tail_Number', 'ActualElapsedTime', 'CRSElapsedTime', 'AirTime',\n",
       "       'ArrDelay', 'DepDelay', 'Origin', 'Dest', 'Distance', 'TaxiIn',\n",
       "       'TaxiOut', 'Cancelled', 'CancellationCode', 'Diverted', 'CarrierDelay',\n",
       "       'WeatherDelay', 'NASDelay', 'SecurityDelay', 'LateAircraftDelay'],\n",
       "      dtype='object')"
      ]
     },
     "execution_count": 36,
     "metadata": {},
     "output_type": "execute_result"
    }
   ],
   "source": [
    "flights.columns"
   ]
  },
  {
   "cell_type": "code",
   "execution_count": 46,
   "metadata": {},
   "outputs": [
    {
     "data": {
      "text/html": [
       "<div>\n",
       "<style scoped>\n",
       "    .dataframe tbody tr th:only-of-type {\n",
       "        vertical-align: middle;\n",
       "    }\n",
       "\n",
       "    .dataframe tbody tr th {\n",
       "        vertical-align: top;\n",
       "    }\n",
       "\n",
       "    .dataframe thead th {\n",
       "        text-align: right;\n",
       "    }\n",
       "</style>\n",
       "<table border=\"1\" class=\"dataframe\">\n",
       "  <thead>\n",
       "    <tr style=\"text-align: right;\">\n",
       "      <th></th>\n",
       "      <th>Month</th>\n",
       "      <th>DayofMonth</th>\n",
       "      <th>DayOfWeek</th>\n",
       "      <th>DepTime</th>\n",
       "      <th>CRSDepTime</th>\n",
       "      <th>ArrTime</th>\n",
       "      <th>CRSArrTime</th>\n",
       "      <th>Reporting_Airline</th>\n",
       "      <th>Flight_Number_Reporting_Airline</th>\n",
       "      <th>Tail_Number</th>\n",
       "      <th>...</th>\n",
       "      <th>TaxiIn</th>\n",
       "      <th>TaxiOut</th>\n",
       "      <th>Cancelled</th>\n",
       "      <th>CancellationCode</th>\n",
       "      <th>Diverted</th>\n",
       "      <th>CarrierDelay</th>\n",
       "      <th>WeatherDelay</th>\n",
       "      <th>NASDelay</th>\n",
       "      <th>SecurityDelay</th>\n",
       "      <th>LateAircraftDelay</th>\n",
       "    </tr>\n",
       "  </thead>\n",
       "  <tbody>\n",
       "    <tr>\n",
       "      <th>7317193</th>\n",
       "      <td>8</td>\n",
       "      <td>11</td>\n",
       "      <td>7</td>\n",
       "      <td>453.0</td>\n",
       "      <td>500</td>\n",
       "      <td>728.0</td>\n",
       "      <td>757</td>\n",
       "      <td>AA</td>\n",
       "      <td>459</td>\n",
       "      <td>N585UW</td>\n",
       "      <td>...</td>\n",
       "      <td>3.0</td>\n",
       "      <td>14.0</td>\n",
       "      <td>0.0</td>\n",
       "      <td>NaN</td>\n",
       "      <td>0.0</td>\n",
       "      <td>NaN</td>\n",
       "      <td>NaN</td>\n",
       "      <td>NaN</td>\n",
       "      <td>NaN</td>\n",
       "      <td>NaN</td>\n",
       "    </tr>\n",
       "    <tr>\n",
       "      <th>4397531</th>\n",
       "      <td>1</td>\n",
       "      <td>30</td>\n",
       "      <td>3</td>\n",
       "      <td>NaN</td>\n",
       "      <td>500</td>\n",
       "      <td>NaN</td>\n",
       "      <td>625</td>\n",
       "      <td>OO</td>\n",
       "      <td>3765</td>\n",
       "      <td>N803SK</td>\n",
       "      <td>...</td>\n",
       "      <td>NaN</td>\n",
       "      <td>NaN</td>\n",
       "      <td>1.0</td>\n",
       "      <td>B</td>\n",
       "      <td>0.0</td>\n",
       "      <td>NaN</td>\n",
       "      <td>NaN</td>\n",
       "      <td>NaN</td>\n",
       "      <td>NaN</td>\n",
       "      <td>NaN</td>\n",
       "    </tr>\n",
       "    <tr>\n",
       "      <th>6179076</th>\n",
       "      <td>4</td>\n",
       "      <td>20</td>\n",
       "      <td>6</td>\n",
       "      <td>1104.0</td>\n",
       "      <td>1100</td>\n",
       "      <td>1321.0</td>\n",
       "      <td>1341</td>\n",
       "      <td>B6</td>\n",
       "      <td>2884</td>\n",
       "      <td>N583JB</td>\n",
       "      <td>...</td>\n",
       "      <td>8.0</td>\n",
       "      <td>12.0</td>\n",
       "      <td>0.0</td>\n",
       "      <td>NaN</td>\n",
       "      <td>0.0</td>\n",
       "      <td>NaN</td>\n",
       "      <td>NaN</td>\n",
       "      <td>NaN</td>\n",
       "      <td>NaN</td>\n",
       "      <td>NaN</td>\n",
       "    </tr>\n",
       "    <tr>\n",
       "      <th>6718498</th>\n",
       "      <td>4</td>\n",
       "      <td>20</td>\n",
       "      <td>6</td>\n",
       "      <td>2038.0</td>\n",
       "      <td>1905</td>\n",
       "      <td>2347.0</td>\n",
       "      <td>2223</td>\n",
       "      <td>DL</td>\n",
       "      <td>2919</td>\n",
       "      <td>N357NW</td>\n",
       "      <td>...</td>\n",
       "      <td>4.0</td>\n",
       "      <td>41.0</td>\n",
       "      <td>0.0</td>\n",
       "      <td>NaN</td>\n",
       "      <td>0.0</td>\n",
       "      <td>0.0</td>\n",
       "      <td>0.0</td>\n",
       "      <td>0.0</td>\n",
       "      <td>0.0</td>\n",
       "      <td>84.0</td>\n",
       "    </tr>\n",
       "    <tr>\n",
       "      <th>2016575</th>\n",
       "      <td>9</td>\n",
       "      <td>18</td>\n",
       "      <td>3</td>\n",
       "      <td>1554.0</td>\n",
       "      <td>1600</td>\n",
       "      <td>1748.0</td>\n",
       "      <td>1742</td>\n",
       "      <td>OO</td>\n",
       "      <td>3222</td>\n",
       "      <td>N766SK</td>\n",
       "      <td>...</td>\n",
       "      <td>17.0</td>\n",
       "      <td>19.0</td>\n",
       "      <td>0.0</td>\n",
       "      <td>NaN</td>\n",
       "      <td>0.0</td>\n",
       "      <td>NaN</td>\n",
       "      <td>NaN</td>\n",
       "      <td>NaN</td>\n",
       "      <td>NaN</td>\n",
       "      <td>NaN</td>\n",
       "    </tr>\n",
       "  </tbody>\n",
       "</table>\n",
       "<p>5 rows × 28 columns</p>\n",
       "</div>"
      ],
      "text/plain": [
       "         Month  DayofMonth  DayOfWeek  DepTime  CRSDepTime  ArrTime  \\\n",
       "7317193      8          11          7    453.0         500    728.0   \n",
       "4397531      1          30          3      NaN         500      NaN   \n",
       "6179076      4          20          6   1104.0        1100   1321.0   \n",
       "6718498      4          20          6   2038.0        1905   2347.0   \n",
       "2016575      9          18          3   1554.0        1600   1748.0   \n",
       "\n",
       "         CRSArrTime Reporting_Airline  Flight_Number_Reporting_Airline  \\\n",
       "7317193         757                AA                              459   \n",
       "4397531         625                OO                             3765   \n",
       "6179076        1341                B6                             2884   \n",
       "6718498        2223                DL                             2919   \n",
       "2016575        1742                OO                             3222   \n",
       "\n",
       "        Tail_Number  ...  TaxiIn  TaxiOut  Cancelled  CancellationCode  \\\n",
       "7317193      N585UW  ...     3.0     14.0        0.0               NaN   \n",
       "4397531      N803SK  ...     NaN      NaN        1.0                 B   \n",
       "6179076      N583JB  ...     8.0     12.0        0.0               NaN   \n",
       "6718498      N357NW  ...     4.0     41.0        0.0               NaN   \n",
       "2016575      N766SK  ...    17.0     19.0        0.0               NaN   \n",
       "\n",
       "         Diverted CarrierDelay WeatherDelay  NASDelay  SecurityDelay  \\\n",
       "7317193       0.0          NaN          NaN       NaN            NaN   \n",
       "4397531       0.0          NaN          NaN       NaN            NaN   \n",
       "6179076       0.0          NaN          NaN       NaN            NaN   \n",
       "6718498       0.0          0.0          0.0       0.0            0.0   \n",
       "2016575       0.0          NaN          NaN       NaN            NaN   \n",
       "\n",
       "         LateAircraftDelay  \n",
       "7317193                NaN  \n",
       "4397531                NaN  \n",
       "6179076                NaN  \n",
       "6718498               84.0  \n",
       "2016575                NaN  \n",
       "\n",
       "[5 rows x 28 columns]"
      ]
     },
     "execution_count": 46,
     "metadata": {},
     "output_type": "execute_result"
    }
   ],
   "source": [
    "flights.sample(5)"
   ]
  },
  {
   "cell_type": "code",
   "execution_count": 52,
   "metadata": {},
   "outputs": [
    {
     "data": {
      "text/plain": [
       "0"
      ]
     },
     "execution_count": 52,
     "metadata": {},
     "output_type": "execute_result"
    }
   ],
   "source": [
    "flights.duplicated().sum()"
   ]
  },
  {
   "cell_type": "code",
   "execution_count": 58,
   "metadata": {},
   "outputs": [
    {
     "data": {
      "text/html": [
       "<div>\n",
       "<style scoped>\n",
       "    .dataframe tbody tr th:only-of-type {\n",
       "        vertical-align: middle;\n",
       "    }\n",
       "\n",
       "    .dataframe tbody tr th {\n",
       "        vertical-align: top;\n",
       "    }\n",
       "\n",
       "    .dataframe thead th {\n",
       "        text-align: right;\n",
       "    }\n",
       "</style>\n",
       "<table border=\"1\" class=\"dataframe\">\n",
       "  <thead>\n",
       "    <tr style=\"text-align: right;\">\n",
       "      <th></th>\n",
       "      <th>Month</th>\n",
       "      <th>DayofMonth</th>\n",
       "      <th>DayOfWeek</th>\n",
       "      <th>CRSDepTime</th>\n",
       "      <th>CRSArrTime</th>\n",
       "      <th>ActualElapsedTime</th>\n",
       "      <th>CRSElapsedTime</th>\n",
       "      <th>AirTime</th>\n",
       "      <th>ArrDelay</th>\n",
       "      <th>DepDelay</th>\n",
       "      <th>Distance</th>\n",
       "      <th>TaxiIn</th>\n",
       "      <th>TaxiOut</th>\n",
       "      <th>Cancelled</th>\n",
       "      <th>Diverted</th>\n",
       "      <th>CarrierDelay</th>\n",
       "      <th>WeatherDelay</th>\n",
       "      <th>NASDelay</th>\n",
       "      <th>SecurityDelay</th>\n",
       "      <th>LateAircraftDelay</th>\n",
       "    </tr>\n",
       "  </thead>\n",
       "  <tbody>\n",
       "    <tr>\n",
       "      <th>count</th>\n",
       "      <td>7.422037e+06</td>\n",
       "      <td>7.422037e+06</td>\n",
       "      <td>7.422037e+06</td>\n",
       "      <td>7.422037e+06</td>\n",
       "      <td>7.422037e+06</td>\n",
       "      <td>7.268232e+06</td>\n",
       "      <td>7.421902e+06</td>\n",
       "      <td>7.268232e+06</td>\n",
       "      <td>7.268232e+06</td>\n",
       "      <td>7.291927e+06</td>\n",
       "      <td>7.422037e+06</td>\n",
       "      <td>7.284390e+06</td>\n",
       "      <td>7.288060e+06</td>\n",
       "      <td>7.422037e+06</td>\n",
       "      <td>7.422037e+06</td>\n",
       "      <td>1.389253e+06</td>\n",
       "      <td>1.389253e+06</td>\n",
       "      <td>1.389253e+06</td>\n",
       "      <td>1.389253e+06</td>\n",
       "      <td>1.389253e+06</td>\n",
       "    </tr>\n",
       "    <tr>\n",
       "      <th>mean</th>\n",
       "      <td>6.578750e+00</td>\n",
       "      <td>1.573196e+01</td>\n",
       "      <td>3.937155e+00</td>\n",
       "      <td>1.330259e+03</td>\n",
       "      <td>1.485790e+03</td>\n",
       "      <td>1.366903e+02</td>\n",
       "      <td>1.419022e+02</td>\n",
       "      <td>1.115734e+02</td>\n",
       "      <td>5.414849e+00</td>\n",
       "      <td>1.092327e+01</td>\n",
       "      <td>8.005442e+02</td>\n",
       "      <td>7.740776e+00</td>\n",
       "      <td>1.738935e+01</td>\n",
       "      <td>1.817897e-02</td>\n",
       "      <td>2.543776e-03</td>\n",
       "      <td>2.112859e+01</td>\n",
       "      <td>3.802404e+00</td>\n",
       "      <td>1.658795e+01</td>\n",
       "      <td>9.608329e-02</td>\n",
       "      <td>2.740748e+01</td>\n",
       "    </tr>\n",
       "    <tr>\n",
       "      <th>std</th>\n",
       "      <td>3.402585e+00</td>\n",
       "      <td>8.762183e+00</td>\n",
       "      <td>1.995814e+00</td>\n",
       "      <td>4.929855e+02</td>\n",
       "      <td>5.214659e+02</td>\n",
       "      <td>7.261274e+01</td>\n",
       "      <td>7.234685e+01</td>\n",
       "      <td>7.056123e+01</td>\n",
       "      <td>5.106666e+01</td>\n",
       "      <td>4.895964e+01</td>\n",
       "      <td>5.925118e+02</td>\n",
       "      <td>6.194340e+00</td>\n",
       "      <td>1.000398e+01</td>\n",
       "      <td>1.335983e-01</td>\n",
       "      <td>5.037167e-02</td>\n",
       "      <td>6.610465e+01</td>\n",
       "      <td>3.236297e+01</td>\n",
       "      <td>3.966440e+01</td>\n",
       "      <td>3.358346e+00</td>\n",
       "      <td>5.345620e+01</td>\n",
       "    </tr>\n",
       "    <tr>\n",
       "      <th>min</th>\n",
       "      <td>1.000000e+00</td>\n",
       "      <td>1.000000e+00</td>\n",
       "      <td>1.000000e+00</td>\n",
       "      <td>1.000000e+00</td>\n",
       "      <td>1.000000e+00</td>\n",
       "      <td>1.500000e+01</td>\n",
       "      <td>1.000000e+00</td>\n",
       "      <td>4.000000e+00</td>\n",
       "      <td>-9.900000e+01</td>\n",
       "      <td>-8.200000e+01</td>\n",
       "      <td>3.100000e+01</td>\n",
       "      <td>1.000000e+00</td>\n",
       "      <td>1.000000e+00</td>\n",
       "      <td>0.000000e+00</td>\n",
       "      <td>0.000000e+00</td>\n",
       "      <td>0.000000e+00</td>\n",
       "      <td>0.000000e+00</td>\n",
       "      <td>0.000000e+00</td>\n",
       "      <td>0.000000e+00</td>\n",
       "      <td>0.000000e+00</td>\n",
       "    </tr>\n",
       "    <tr>\n",
       "      <th>25%</th>\n",
       "      <td>4.000000e+00</td>\n",
       "      <td>8.000000e+00</td>\n",
       "      <td>2.000000e+00</td>\n",
       "      <td>9.130000e+02</td>\n",
       "      <td>1.100000e+03</td>\n",
       "      <td>8.400000e+01</td>\n",
       "      <td>9.000000e+01</td>\n",
       "      <td>6.000000e+01</td>\n",
       "      <td>-1.500000e+01</td>\n",
       "      <td>-5.000000e+00</td>\n",
       "      <td>3.690000e+02</td>\n",
       "      <td>4.000000e+00</td>\n",
       "      <td>1.100000e+01</td>\n",
       "      <td>0.000000e+00</td>\n",
       "      <td>0.000000e+00</td>\n",
       "      <td>0.000000e+00</td>\n",
       "      <td>0.000000e+00</td>\n",
       "      <td>0.000000e+00</td>\n",
       "      <td>0.000000e+00</td>\n",
       "      <td>0.000000e+00</td>\n",
       "    </tr>\n",
       "    <tr>\n",
       "      <th>50%</th>\n",
       "      <td>7.000000e+00</td>\n",
       "      <td>1.600000e+01</td>\n",
       "      <td>4.000000e+00</td>\n",
       "      <td>1.321000e+03</td>\n",
       "      <td>1.515000e+03</td>\n",
       "      <td>1.190000e+02</td>\n",
       "      <td>1.240000e+02</td>\n",
       "      <td>9.300000e+01</td>\n",
       "      <td>-6.000000e+00</td>\n",
       "      <td>-2.000000e+00</td>\n",
       "      <td>6.400000e+02</td>\n",
       "      <td>6.000000e+00</td>\n",
       "      <td>1.500000e+01</td>\n",
       "      <td>0.000000e+00</td>\n",
       "      <td>0.000000e+00</td>\n",
       "      <td>0.000000e+00</td>\n",
       "      <td>0.000000e+00</td>\n",
       "      <td>2.000000e+00</td>\n",
       "      <td>0.000000e+00</td>\n",
       "      <td>3.000000e+00</td>\n",
       "    </tr>\n",
       "    <tr>\n",
       "      <th>75%</th>\n",
       "      <td>1.000000e+01</td>\n",
       "      <td>2.300000e+01</td>\n",
       "      <td>6.000000e+00</td>\n",
       "      <td>1.736000e+03</td>\n",
       "      <td>1.921000e+03</td>\n",
       "      <td>1.670000e+02</td>\n",
       "      <td>1.710000e+02</td>\n",
       "      <td>1.410000e+02</td>\n",
       "      <td>7.000000e+00</td>\n",
       "      <td>7.000000e+00</td>\n",
       "      <td>1.034000e+03</td>\n",
       "      <td>9.000000e+00</td>\n",
       "      <td>2.000000e+01</td>\n",
       "      <td>0.000000e+00</td>\n",
       "      <td>0.000000e+00</td>\n",
       "      <td>1.800000e+01</td>\n",
       "      <td>0.000000e+00</td>\n",
       "      <td>2.000000e+01</td>\n",
       "      <td>0.000000e+00</td>\n",
       "      <td>3.300000e+01</td>\n",
       "    </tr>\n",
       "    <tr>\n",
       "      <th>max</th>\n",
       "      <td>1.200000e+01</td>\n",
       "      <td>3.100000e+01</td>\n",
       "      <td>7.000000e+00</td>\n",
       "      <td>2.359000e+03</td>\n",
       "      <td>2.400000e+03</td>\n",
       "      <td>1.604000e+03</td>\n",
       "      <td>9.480000e+02</td>\n",
       "      <td>1.557000e+03</td>\n",
       "      <td>2.695000e+03</td>\n",
       "      <td>2.710000e+03</td>\n",
       "      <td>5.095000e+03</td>\n",
       "      <td>3.160000e+02</td>\n",
       "      <td>2.270000e+02</td>\n",
       "      <td>1.000000e+00</td>\n",
       "      <td>1.000000e+00</td>\n",
       "      <td>2.695000e+03</td>\n",
       "      <td>1.847000e+03</td>\n",
       "      <td>1.741000e+03</td>\n",
       "      <td>1.078000e+03</td>\n",
       "      <td>2.206000e+03</td>\n",
       "    </tr>\n",
       "  </tbody>\n",
       "</table>\n",
       "</div>"
      ],
      "text/plain": [
       "              Month    DayofMonth     DayOfWeek    CRSDepTime    CRSArrTime  \\\n",
       "count  7.422037e+06  7.422037e+06  7.422037e+06  7.422037e+06  7.422037e+06   \n",
       "mean   6.578750e+00  1.573196e+01  3.937155e+00  1.330259e+03  1.485790e+03   \n",
       "std    3.402585e+00  8.762183e+00  1.995814e+00  4.929855e+02  5.214659e+02   \n",
       "min    1.000000e+00  1.000000e+00  1.000000e+00  1.000000e+00  1.000000e+00   \n",
       "25%    4.000000e+00  8.000000e+00  2.000000e+00  9.130000e+02  1.100000e+03   \n",
       "50%    7.000000e+00  1.600000e+01  4.000000e+00  1.321000e+03  1.515000e+03   \n",
       "75%    1.000000e+01  2.300000e+01  6.000000e+00  1.736000e+03  1.921000e+03   \n",
       "max    1.200000e+01  3.100000e+01  7.000000e+00  2.359000e+03  2.400000e+03   \n",
       "\n",
       "       ActualElapsedTime  CRSElapsedTime       AirTime      ArrDelay  \\\n",
       "count       7.268232e+06    7.421902e+06  7.268232e+06  7.268232e+06   \n",
       "mean        1.366903e+02    1.419022e+02  1.115734e+02  5.414849e+00   \n",
       "std         7.261274e+01    7.234685e+01  7.056123e+01  5.106666e+01   \n",
       "min         1.500000e+01    1.000000e+00  4.000000e+00 -9.900000e+01   \n",
       "25%         8.400000e+01    9.000000e+01  6.000000e+01 -1.500000e+01   \n",
       "50%         1.190000e+02    1.240000e+02  9.300000e+01 -6.000000e+00   \n",
       "75%         1.670000e+02    1.710000e+02  1.410000e+02  7.000000e+00   \n",
       "max         1.604000e+03    9.480000e+02  1.557000e+03  2.695000e+03   \n",
       "\n",
       "           DepDelay      Distance        TaxiIn       TaxiOut     Cancelled  \\\n",
       "count  7.291927e+06  7.422037e+06  7.284390e+06  7.288060e+06  7.422037e+06   \n",
       "mean   1.092327e+01  8.005442e+02  7.740776e+00  1.738935e+01  1.817897e-02   \n",
       "std    4.895964e+01  5.925118e+02  6.194340e+00  1.000398e+01  1.335983e-01   \n",
       "min   -8.200000e+01  3.100000e+01  1.000000e+00  1.000000e+00  0.000000e+00   \n",
       "25%   -5.000000e+00  3.690000e+02  4.000000e+00  1.100000e+01  0.000000e+00   \n",
       "50%   -2.000000e+00  6.400000e+02  6.000000e+00  1.500000e+01  0.000000e+00   \n",
       "75%    7.000000e+00  1.034000e+03  9.000000e+00  2.000000e+01  0.000000e+00   \n",
       "max    2.710000e+03  5.095000e+03  3.160000e+02  2.270000e+02  1.000000e+00   \n",
       "\n",
       "           Diverted  CarrierDelay  WeatherDelay      NASDelay  SecurityDelay  \\\n",
       "count  7.422037e+06  1.389253e+06  1.389253e+06  1.389253e+06   1.389253e+06   \n",
       "mean   2.543776e-03  2.112859e+01  3.802404e+00  1.658795e+01   9.608329e-02   \n",
       "std    5.037167e-02  6.610465e+01  3.236297e+01  3.966440e+01   3.358346e+00   \n",
       "min    0.000000e+00  0.000000e+00  0.000000e+00  0.000000e+00   0.000000e+00   \n",
       "25%    0.000000e+00  0.000000e+00  0.000000e+00  0.000000e+00   0.000000e+00   \n",
       "50%    0.000000e+00  0.000000e+00  0.000000e+00  2.000000e+00   0.000000e+00   \n",
       "75%    0.000000e+00  1.800000e+01  0.000000e+00  2.000000e+01   0.000000e+00   \n",
       "max    1.000000e+00  2.695000e+03  1.847000e+03  1.741000e+03   1.078000e+03   \n",
       "\n",
       "       LateAircraftDelay  \n",
       "count       1.389253e+06  \n",
       "mean        2.740748e+01  \n",
       "std         5.345620e+01  \n",
       "min         0.000000e+00  \n",
       "25%         0.000000e+00  \n",
       "50%         3.000000e+00  \n",
       "75%         3.300000e+01  \n",
       "max         2.206000e+03  "
      ]
     },
     "execution_count": 58,
     "metadata": {},
     "output_type": "execute_result"
    }
   ],
   "source": [
    "flights.describe()"
   ]
  },
  {
   "cell_type": "code",
   "execution_count": 38,
   "metadata": {},
   "outputs": [
    {
     "data": {
      "text/plain": [
       "Month                                int64\n",
       "DayofMonth                           int64\n",
       "DayOfWeek                            int64\n",
       "DepTime                            float64\n",
       "CRSDepTime                           int64\n",
       "ArrTime                            float64\n",
       "CRSArrTime                           int64\n",
       "Reporting_Airline                   object\n",
       "Flight_Number_Reporting_Airline      int64\n",
       "Tail_Number                         object\n",
       "ActualElapsedTime                  float64\n",
       "CRSElapsedTime                     float64\n",
       "AirTime                            float64\n",
       "ArrDelay                           float64\n",
       "DepDelay                           float64\n",
       "Origin                              object\n",
       "Dest                                object\n",
       "Distance                           float64\n",
       "TaxiIn                             float64\n",
       "TaxiOut                            float64\n",
       "Cancelled                          float64\n",
       "CancellationCode                    object\n",
       "Diverted                           float64\n",
       "CarrierDelay                       float64\n",
       "WeatherDelay                       float64\n",
       "NASDelay                           float64\n",
       "SecurityDelay                      float64\n",
       "LateAircraftDelay                  float64\n",
       "dtype: object"
      ]
     },
     "execution_count": 38,
     "metadata": {},
     "output_type": "execute_result"
    }
   ],
   "source": [
    "flights.dtypes"
   ]
  },
  {
   "cell_type": "markdown",
   "metadata": {},
   "source": [
    "Some problems with data types: \n",
    "- DepTime and CRSDepTime have diferent types. Idem ArrTime and CRSArrTime. Have both columns (in both cases) is not necessary since there is a column for the delay. I will keep only the scheduled times (CRS).\n",
    "- Flight_Number should be a string\n",
    "- Cancelled should be an integer 1: yes , 0:no. Idem Diverted\n",
    "\n",
    "I will adress this problems before plotting"
   ]
  },
  {
   "cell_type": "code",
   "execution_count": 47,
   "metadata": {},
   "outputs": [
    {
     "name": "stderr",
     "output_type": "stream",
     "text": [
      "/home/caro/anaconda3/envs/py3/lib/python3.7/site-packages/pandas/core/frame.py:3994: SettingWithCopyWarning: \n",
      "A value is trying to be set on a copy of a slice from a DataFrame\n",
      "\n",
      "See the caveats in the documentation: https://pandas.pydata.org/pandas-docs/stable/user_guide/indexing.html#returning-a-view-versus-a-copy\n",
      "  errors=errors,\n"
     ]
    }
   ],
   "source": [
    "#code\n",
    "flights.drop(['DepTime','ArrTime'],axis=1,inplace=True)"
   ]
  },
  {
   "cell_type": "code",
   "execution_count": 48,
   "metadata": {},
   "outputs": [
    {
     "data": {
      "text/plain": [
       "(7422037, 26)"
      ]
     },
     "execution_count": 48,
     "metadata": {},
     "output_type": "execute_result"
    }
   ],
   "source": [
    "#test\n",
    "flights.shape"
   ]
  },
  {
   "cell_type": "code",
   "execution_count": 51,
   "metadata": {},
   "outputs": [
    {
     "name": "stderr",
     "output_type": "stream",
     "text": [
      "/home/caro/anaconda3/envs/py3/lib/python3.7/site-packages/ipykernel_launcher.py:1: SettingWithCopyWarning: \n",
      "A value is trying to be set on a copy of a slice from a DataFrame.\n",
      "Try using .loc[row_indexer,col_indexer] = value instead\n",
      "\n",
      "See the caveats in the documentation: https://pandas.pydata.org/pandas-docs/stable/user_guide/indexing.html#returning-a-view-versus-a-copy\n",
      "  \"\"\"Entry point for launching an IPython kernel.\n"
     ]
    }
   ],
   "source": [
    "#code\n",
    "flights['Flight_Number_Reporting_Airline']=flights['Flight_Number_Reporting_Airline'].astype('str') "
   ]
  },
  {
   "cell_type": "code",
   "execution_count": 53,
   "metadata": {},
   "outputs": [
    {
     "name": "stderr",
     "output_type": "stream",
     "text": [
      "/home/caro/anaconda3/envs/py3/lib/python3.7/site-packages/ipykernel_launcher.py:1: SettingWithCopyWarning: \n",
      "A value is trying to be set on a copy of a slice from a DataFrame.\n",
      "Try using .loc[row_indexer,col_indexer] = value instead\n",
      "\n",
      "See the caveats in the documentation: https://pandas.pydata.org/pandas-docs/stable/user_guide/indexing.html#returning-a-view-versus-a-copy\n",
      "  \"\"\"Entry point for launching an IPython kernel.\n",
      "/home/caro/anaconda3/envs/py3/lib/python3.7/site-packages/ipykernel_launcher.py:2: SettingWithCopyWarning: \n",
      "A value is trying to be set on a copy of a slice from a DataFrame.\n",
      "Try using .loc[row_indexer,col_indexer] = value instead\n",
      "\n",
      "See the caveats in the documentation: https://pandas.pydata.org/pandas-docs/stable/user_guide/indexing.html#returning-a-view-versus-a-copy\n",
      "  \n"
     ]
    }
   ],
   "source": [
    "#code\n",
    "flights['Cancelled']=flights['Cancelled'].astype('int')\n",
    "flights['Diverted']=flights['Diverted'].astype('int')"
   ]
  },
  {
   "cell_type": "code",
   "execution_count": 55,
   "metadata": {},
   "outputs": [
    {
     "data": {
      "text/plain": [
       "Month                                int64\n",
       "DayofMonth                           int64\n",
       "DayOfWeek                            int64\n",
       "CRSDepTime                           int64\n",
       "CRSArrTime                           int64\n",
       "Reporting_Airline                   object\n",
       "Flight_Number_Reporting_Airline     object\n",
       "Tail_Number                         object\n",
       "ActualElapsedTime                  float64\n",
       "CRSElapsedTime                     float64\n",
       "AirTime                            float64\n",
       "ArrDelay                           float64\n",
       "DepDelay                           float64\n",
       "Origin                              object\n",
       "Dest                                object\n",
       "Distance                           float64\n",
       "TaxiIn                             float64\n",
       "TaxiOut                            float64\n",
       "Cancelled                            int64\n",
       "CancellationCode                    object\n",
       "Diverted                             int64\n",
       "CarrierDelay                       float64\n",
       "WeatherDelay                       float64\n",
       "NASDelay                           float64\n",
       "SecurityDelay                      float64\n",
       "LateAircraftDelay                  float64\n",
       "dtype: object"
      ]
     },
     "execution_count": 55,
     "metadata": {},
     "output_type": "execute_result"
    }
   ],
   "source": [
    "#test\n",
    "flights.dtypes"
   ]
  },
  {
   "cell_type": "markdown",
   "metadata": {},
   "source": [
    "### What is the structure of your dataset?\n",
    "\n",
    "> There are 7422037 flights (rows) with 26 festures (columns). Most variables are numerical but there are some categorical. \n",
    "\n",
    "### What is/are the main feature(s) of interest in your dataset?\n",
    "\n",
    "> All the features asociated with delates, like Cancelled, ArrDelay, DepDelay, etc.\n",
    "\n",
    "### What features in the dataset do you think will help support your investigation into your feature(s) of interest?\n",
    "\n",
    "> All the features should be explored, but at first I will said that Date, Time, Airline, Origin and Dest have a big influence."
   ]
  },
  {
   "cell_type": "markdown",
   "metadata": {},
   "source": [
    "## Univariate Exploration"
   ]
  },
  {
   "cell_type": "code",
   "execution_count": 178,
   "metadata": {},
   "outputs": [
    {
     "data": {
      "text/plain": [
       "<matplotlib.axes._subplots.AxesSubplot at 0x7fd5b6447c50>"
      ]
     },
     "execution_count": 178,
     "metadata": {},
     "output_type": "execute_result"
    },
    {
     "data": {
      "image/png": "[encoded data removed]",
      "text/plain": [
       "<Figure size 720x1296 with 3 Axes>"
      ]
     },
     "metadata": {
      "needs_background": "light"
     },
     "output_type": "display_data"
    }
   ],
   "source": [
    "#let's start with the distribution of month, day of week and airline\n",
    "fig, ax = plt.subplots(nrows=3, figsize = [10,18])\n",
    "\n",
    "base_color = sb.color_palette()[0]\n",
    "sb.countplot(data = flights, x = 'Month', color = base_color, ax = ax[0])\n",
    "sb.countplot(data = flights, x = 'DayOfWeek', color = base_color, ax = ax[1])\n",
    "order=df['Reporting_Airline'].value_counts().index\n",
    "sb.countplot(data=flights,y='Reporting_Airline',color=base_color,order=order)"
   ]
  },
  {
   "cell_type": "markdown",
   "metadata": {},
   "source": [
    "- As expected, there are more flights on July and August (Holidays) but this is not a remarkable difference.\n",
    "- Saturdays (6) are less flights than other days.\n",
    "- There are 5 main airlines: WN (Southwest Airlines), DL (Delta Airlines), AA (American Airlines), OO (Skywest Airlines) and UA (United Airlines)"
   ]
  },
  {
   "cell_type": "code",
   "execution_count": 110,
   "metadata": {},
   "outputs": [
    {
     "data": {
      "text/plain": [
       "<matplotlib.axes._subplots.AxesSubplot at 0x7fd5f152bfd0>"
      ]
     },
     "execution_count": 110,
     "metadata": {},
     "output_type": "execute_result"
    },
    {
     "data": {
      "image/png": "[encoded data removed]",
      "text/plain": [
       "<Figure size 576x576 with 2 Axes>"
      ]
     },
     "metadata": {
      "needs_background": "light"
     },
     "output_type": "display_data"
    }
   ],
   "source": [
    "# what about departure and arrival cities?\n",
    "fig, ax = plt.subplots(nrows=2, figsize = [8,8])\n",
    "\n",
    "base_color = sb.color_palette()[0]\n",
    "sb.countplot(data = flights, x = 'Origin', color = base_color, ax = ax[0])\n",
    "sb.countplot(data = flights, x = 'Dest', color = base_color, ax = ax[1])"
   ]
  },
  {
   "cell_type": "markdown",
   "metadata": {},
   "source": [
    "- This plots doesn't tell us much: there are  a lot of cities, some with a bigger count than others. We can take a look to the biggest counts but we are not going to continue improving this plot for now."
   ]
  },
  {
   "cell_type": "code",
   "execution_count": 125,
   "metadata": {},
   "outputs": [
    {
     "data": {
      "image/png": "[encoded data removed]",
      "text/plain": [
       "<Figure size 576x576 with 2 Axes>"
      ]
     },
     "metadata": {
      "needs_background": "light"
     },
     "output_type": "display_data"
    }
   ],
   "source": [
    "# departure and arrival times\n",
    "fig, ax = plt.subplots(nrows=2, figsize = [8,8])\n",
    "\n",
    "base_color = sb.color_palette()[0]\n",
    "ax[0].hist(data = flights, x = 'CRSDepTime',bins=30)\n",
    "plt.ylabel('arrival')\n",
    "ax[1].hist(data = flights, x = 'CRSArrTime',bins=30)\n",
    "plt.xticks([0,100,500,1000,1500,2000,2400])\n",
    "plt.xlabel('Time (hhmm)');"
   ]
  },
  {
   "cell_type": "markdown",
   "metadata": {},
   "source": [
    "- both distributions are left skewed: there are very little flights before 5am.\n",
    "- in both cases there are four peaks of flights: one in the morning, one in the nooin, one in the afternoon and one at night."
   ]
  },
  {
   "cell_type": "code",
   "execution_count": 128,
   "metadata": {},
   "outputs": [
    {
     "data": {
      "image/png": "[encoded data removed]",
      "text/plain": [
       "<Figure size 576x576 with 2 Axes>"
      ]
     },
     "metadata": {
      "needs_background": "light"
     },
     "output_type": "display_data"
    }
   ],
   "source": [
    "# elapsed time and distance\n",
    "fig, ax = plt.subplots(nrows=2, figsize = [8,8])\n",
    "\n",
    "base_color = sb.color_palette()[0]\n",
    "ax[0].hist(data = flights, x = 'ActualElapsedTime',bins=30)\n",
    "plt.ylabel('distance')\n",
    "ax[1].hist(data = flights, x = 'Distance',bins=30);"
   ]
  },
  {
   "cell_type": "markdown",
   "metadata": {},
   "source": [
    "- both distributions are very right skewed. It makes sense that both have the same distribution because the distance and the time elapsed should be correlated. We'll see this later."
   ]
  },
  {
   "cell_type": "code",
   "execution_count": 94,
   "metadata": {},
   "outputs": [
    {
     "data": {
      "text/plain": [
       "<matplotlib.axes._subplots.AxesSubplot at 0x7fd5f35ec390>"
      ]
     },
     "execution_count": 94,
     "metadata": {},
     "output_type": "execute_result"
    },
    {
     "data": {
      "image/png": "[encoded data removed]",
      "text/plain": [
       "<Figure size 432x288 with 1 Axes>"
      ]
     },
     "metadata": {
      "needs_background": "light"
     },
     "output_type": "display_data"
    }
   ],
   "source": [
    "#relative frequencies: cancellations and diverted flights\n",
    "n=flights.shape[0]\n",
    "max_count=flights.Cancelled.value_counts().max()\n",
    "max_prop=max_count/n\n",
    "#plot\n",
    "base_color = sb.color_palette()[0]\n",
    "ticks=np.arange(0,max_prop,0.1)\n",
    "ticks_names=['{:0.1f}'.format(v) for v in ticks]\n",
    "plt.yticks(ticks*n,ticks_names)\n",
    "sb.countplot(data = flights, x = 'Cancelled', color = base_color)"
   ]
  },
  {
   "cell_type": "code",
   "execution_count": 101,
   "metadata": {},
   "outputs": [
    {
     "data": {
      "text/plain": [
       "<matplotlib.axes._subplots.AxesSubplot at 0x7fd5f345d790>"
      ]
     },
     "execution_count": 101,
     "metadata": {},
     "output_type": "execute_result"
    },
    {
     "data": {
      "image/png": "[encoded data removed]",
      "text/plain": [
       "<Figure size 432x288 with 1 Axes>"
      ]
     },
     "metadata": {
      "needs_background": "light"
     },
     "output_type": "display_data"
    }
   ],
   "source": [
    "sb.countplot(data=flights, x='CancellationCode',color=base_color) #the letters has no ordinal meaning"
   ]
  },
  {
   "cell_type": "code",
   "execution_count": 95,
   "metadata": {},
   "outputs": [
    {
     "data": {
      "text/plain": [
       "0.018178971621941525"
      ]
     },
     "execution_count": 95,
     "metadata": {},
     "output_type": "execute_result"
    }
   ],
   "source": [
    "flights[flights.Cancelled == 1].shape[0]/n"
   ]
  },
  {
   "cell_type": "code",
   "execution_count": 96,
   "metadata": {},
   "outputs": [
    {
     "data": {
      "text/plain": [
       "<matplotlib.axes._subplots.AxesSubplot at 0x7fd5f35b6e10>"
      ]
     },
     "execution_count": 96,
     "metadata": {},
     "output_type": "execute_result"
    },
    {
     "data": {
      "image/png": "[encoded data removed]",
      "text/plain": [
       "<Figure size 432x288 with 1 Axes>"
      ]
     },
     "metadata": {
      "needs_background": "light"
     },
     "output_type": "display_data"
    }
   ],
   "source": [
    "#relative frequencies\n",
    "n=flights.shape[0]\n",
    "max_count=flights.Diverted.value_counts().max()\n",
    "max_prop=max_count/n\n",
    "#plot\n",
    "base_color = sb.color_palette()[0]\n",
    "ticks=np.arange(0,max_prop,0.1)\n",
    "ticks_names=['{:0.1f}'.format(v) for v in ticks]\n",
    "plt.yticks(ticks*n,ticks_names)\n",
    "sb.countplot(data = flights, x = 'Diverted', color = base_color)"
   ]
  },
  {
   "cell_type": "code",
   "execution_count": 97,
   "metadata": {},
   "outputs": [
    {
     "data": {
      "text/plain": [
       "0.002543776055010235"
      ]
     },
     "execution_count": 97,
     "metadata": {},
     "output_type": "execute_result"
    }
   ],
   "source": [
    "flights[flights.Diverted == 1].shape[0]/n"
   ]
  },
  {
   "cell_type": "markdown",
   "metadata": {},
   "source": [
    "- less than 2% of the flights were cancelled\n",
    "- the most frequent cancellation reason is weather (B), follow by carrier (A) and National Air System (C). There is almost no cancellations due to security issues (D).\n",
    "- less than 0.5% of the flights were diverted"
   ]
  },
  {
   "cell_type": "code",
   "execution_count": 134,
   "metadata": {},
   "outputs": [
    {
     "data": {
      "image/png": "[encoded data removed]",
      "text/plain": [
       "<Figure size 576x576 with 2 Axes>"
      ]
     },
     "metadata": {
      "needs_background": "light"
     },
     "output_type": "display_data"
    }
   ],
   "source": [
    "plt.figure(figsize = [8,8])\n",
    "\n",
    "base_color = sb.color_palette()[0]\n",
    "plt.subplot(2,1,1)\n",
    "plt.hist(data = flights, x = 'DepDelay',bins=30)\n",
    "plt.ylabel('departure')\n",
    "plt.subplot(2,1,2)\n",
    "plt.hist(data = flights, x = 'ArrDelay',bins=30)\n",
    "plt.ylabel('arrival')\n",
    "plt.xlabel('min');"
   ]
  },
  {
   "cell_type": "markdown",
   "metadata": {},
   "source": [
    "let's some in. There are clearly some outiers."
   ]
  },
  {
   "cell_type": "code",
   "execution_count": 143,
   "metadata": {},
   "outputs": [
    {
     "name": "stderr",
     "output_type": "stream",
     "text": [
      "/home/caro/anaconda3/envs/py3/lib/python3.7/site-packages/numpy/lib/histograms.py:839: RuntimeWarning: invalid value encountered in greater_equal\n",
      "  keep = (tmp_a >= first_edge)\n",
      "/home/caro/anaconda3/envs/py3/lib/python3.7/site-packages/numpy/lib/histograms.py:840: RuntimeWarning: invalid value encountered in less_equal\n",
      "  keep &= (tmp_a <= last_edge)\n"
     ]
    },
    {
     "data": {
      "image/png": "[encoded data removed]",
      "text/plain": [
       "<Figure size 576x576 with 2 Axes>"
      ]
     },
     "metadata": {
      "needs_background": "light"
     },
     "output_type": "display_data"
    }
   ],
   "source": [
    "plt.figure(figsize = [8,8])\n",
    "\n",
    "base_color = sb.color_palette()[0]\n",
    "plt.subplot(2,1,1)\n",
    "plt.hist(data = flights, x = 'DepDelay',bins=100)\n",
    "plt.ylabel('departure')\n",
    "plt.xlim(0,500)\n",
    "plt.subplot(2,1,2)\n",
    "plt.hist(data = flights, x = 'ArrDelay',bins=100)\n",
    "plt.ylabel('arrival')\n",
    "plt.xlabel('min')\n",
    "plt.xlim(0,500);"
   ]
  },
  {
   "cell_type": "markdown",
   "metadata": {},
   "source": [
    "- Both distributions are very right skewed. We can consider every time bigger than 300 as an outlier."
   ]
  },
  {
   "cell_type": "code",
   "execution_count": 166,
   "metadata": {},
   "outputs": [
    {
     "data": {
      "image/png": "[encoded data removed]",
      "text/plain": [
       "<Figure size 576x360 with 1 Axes>"
      ]
     },
     "metadata": {
      "needs_background": "light"
     },
     "output_type": "display_data"
    }
   ],
   "source": [
    "# there's a long tail in the distribution, so let's put it on a log scale instead\n",
    "log_binsize = 0.02\n",
    "bins = 10 ** np.arange(2.2, np.log10(flights['DepDelay'].max())+log_binsize, log_binsize)\n",
    "\n",
    "plt.figure(figsize=[8, 5])\n",
    "plt.hist(data = flights, x = 'DepDelay', bins = bins)\n",
    "plt.xscale('log')\n",
    "plt.xticks([300,500, 1e3, 2e3], [300,500, '1k', '2k'])\n",
    "plt.xlabel('min')\n",
    "plt.ylabel('departure')\n",
    "plt.show()"
   ]
  },
  {
   "cell_type": "code",
   "execution_count": 175,
   "metadata": {},
   "outputs": [
    {
     "data": {
      "image/png": "[encoded data removed]",
      "text/plain": [
       "<Figure size 576x360 with 1 Axes>"
      ]
     },
     "metadata": {
      "needs_background": "light"
     },
     "output_type": "display_data"
    }
   ],
   "source": [
    "# there is a low peak around 900min that we didn't see before, but we need to zoom in to see the lowest values\n",
    "log_binsize = 0.15\n",
    "bins = 10 ** np.arange(0, np.log10(1000)+log_binsize, log_binsize)\n",
    "\n",
    "plt.figure(figsize=[8, 5])\n",
    "plt.hist(data = flights, x = 'DepDelay', bins = bins)\n",
    "plt.xscale('log')\n",
    "plt.xticks([10,30,100,500, 1000], [10,30,100,500, '1k'])\n",
    "plt.xlabel('min')\n",
    "plt.ylabel('departure')\n",
    "plt.show()"
   ]
  },
  {
   "cell_type": "code",
   "execution_count": 176,
   "metadata": {},
   "outputs": [
    {
     "data": {
      "image/png": "[encoded data removed]",
      "text/plain": [
       "<Figure size 576x360 with 1 Axes>"
      ]
     },
     "metadata": {
      "needs_background": "light"
     },
     "output_type": "display_data"
    }
   ],
   "source": [
    "# let's do the same for arrivals\n",
    "log_binsize = 0.02\n",
    "bins = 10 ** np.arange(2.2, np.log10(flights['ArrDelay'].max())+log_binsize, log_binsize)\n",
    "\n",
    "plt.figure(figsize=[8, 5])\n",
    "plt.hist(data = flights, x = 'ArrDelay', bins = bins)\n",
    "plt.xscale('log')\n",
    "plt.xticks([300,500, 1e3, 2e3], [300,500, '1k', '2k'])\n",
    "plt.xlabel('min')\n",
    "plt.ylabel('arrival')\n",
    "plt.show()"
   ]
  },
  {
   "cell_type": "code",
   "execution_count": 177,
   "metadata": {},
   "outputs": [
    {
     "data": {
      "image/png": "[encoded data removed]",
      "text/plain": [
       "<Figure size 576x360 with 1 Axes>"
      ]
     },
     "metadata": {
      "needs_background": "light"
     },
     "output_type": "display_data"
    }
   ],
   "source": [
    "# there is a low peak around 900min that we didn't see before, but we need to zoom in to see the lowest values\n",
    "log_binsize = 0.15\n",
    "bins = 10 ** np.arange(0, np.log10(1000)+log_binsize, log_binsize)\n",
    "\n",
    "plt.figure(figsize=[8, 5])\n",
    "plt.hist(data = flights, x = 'ArrDelay', bins = bins)\n",
    "plt.xscale('log')\n",
    "plt.xticks([10,30,100,500, 1000], [10,30,100,500, '1k'])\n",
    "plt.xlabel('min')\n",
    "plt.ylabel('arrival')\n",
    "plt.show()"
   ]
  },
  {
   "cell_type": "markdown",
   "metadata": {},
   "source": [
    "- Both delate times have a maximum around 30 min and a low peak around 900 min. There is probably a correlation between this values, we'll see that later."
   ]
  },
  {
   "cell_type": "code",
   "execution_count": 142,
   "metadata": {},
   "outputs": [
    {
     "data": {
      "text/html": [
       "<div>\n",
       "<style scoped>\n",
       "    .dataframe tbody tr th:only-of-type {\n",
       "        vertical-align: middle;\n",
       "    }\n",
       "\n",
       "    .dataframe tbody tr th {\n",
       "        vertical-align: top;\n",
       "    }\n",
       "\n",
       "    .dataframe thead th {\n",
       "        text-align: right;\n",
       "    }\n",
       "</style>\n",
       "<table border=\"1\" class=\"dataframe\">\n",
       "  <thead>\n",
       "    <tr style=\"text-align: right;\">\n",
       "      <th></th>\n",
       "      <th>Month</th>\n",
       "      <th>DayofMonth</th>\n",
       "      <th>DayOfWeek</th>\n",
       "      <th>CRSDepTime</th>\n",
       "      <th>CRSArrTime</th>\n",
       "      <th>Reporting_Airline</th>\n",
       "      <th>Flight_Number_Reporting_Airline</th>\n",
       "      <th>Tail_Number</th>\n",
       "      <th>ActualElapsedTime</th>\n",
       "      <th>CRSElapsedTime</th>\n",
       "      <th>...</th>\n",
       "      <th>TaxiIn</th>\n",
       "      <th>TaxiOut</th>\n",
       "      <th>Cancelled</th>\n",
       "      <th>CancellationCode</th>\n",
       "      <th>Diverted</th>\n",
       "      <th>CarrierDelay</th>\n",
       "      <th>WeatherDelay</th>\n",
       "      <th>NASDelay</th>\n",
       "      <th>SecurityDelay</th>\n",
       "      <th>LateAircraftDelay</th>\n",
       "    </tr>\n",
       "  </thead>\n",
       "  <tbody>\n",
       "    <tr>\n",
       "      <th>527</th>\n",
       "      <td>3</td>\n",
       "      <td>3</td>\n",
       "      <td>7</td>\n",
       "      <td>1615</td>\n",
       "      <td>1907</td>\n",
       "      <td>AA</td>\n",
       "      <td>470</td>\n",
       "      <td>N662AW</td>\n",
       "      <td>106.0</td>\n",
       "      <td>112.0</td>\n",
       "      <td>...</td>\n",
       "      <td>6.0</td>\n",
       "      <td>15.0</td>\n",
       "      <td>0</td>\n",
       "      <td>NaN</td>\n",
       "      <td>0</td>\n",
       "      <td>1561.0</td>\n",
       "      <td>0.0</td>\n",
       "      <td>0.0</td>\n",
       "      <td>0.0</td>\n",
       "      <td>0.0</td>\n",
       "    </tr>\n",
       "    <tr>\n",
       "      <th>1203</th>\n",
       "      <td>3</td>\n",
       "      <td>16</td>\n",
       "      <td>6</td>\n",
       "      <td>1712</td>\n",
       "      <td>1855</td>\n",
       "      <td>AA</td>\n",
       "      <td>488</td>\n",
       "      <td>N821AW</td>\n",
       "      <td>282.0</td>\n",
       "      <td>283.0</td>\n",
       "      <td>...</td>\n",
       "      <td>37.0</td>\n",
       "      <td>5.0</td>\n",
       "      <td>0</td>\n",
       "      <td>NaN</td>\n",
       "      <td>0</td>\n",
       "      <td>837.0</td>\n",
       "      <td>0.0</td>\n",
       "      <td>0.0</td>\n",
       "      <td>0.0</td>\n",
       "      <td>0.0</td>\n",
       "    </tr>\n",
       "    <tr>\n",
       "      <th>2242</th>\n",
       "      <td>3</td>\n",
       "      <td>27</td>\n",
       "      <td>3</td>\n",
       "      <td>840</td>\n",
       "      <td>922</td>\n",
       "      <td>AA</td>\n",
       "      <td>520</td>\n",
       "      <td>N153UW</td>\n",
       "      <td>145.0</td>\n",
       "      <td>162.0</td>\n",
       "      <td>...</td>\n",
       "      <td>7.0</td>\n",
       "      <td>15.0</td>\n",
       "      <td>0</td>\n",
       "      <td>NaN</td>\n",
       "      <td>0</td>\n",
       "      <td>76.0</td>\n",
       "      <td>0.0</td>\n",
       "      <td>0.0</td>\n",
       "      <td>0.0</td>\n",
       "      <td>461.0</td>\n",
       "    </tr>\n",
       "    <tr>\n",
       "      <th>3105</th>\n",
       "      <td>3</td>\n",
       "      <td>11</td>\n",
       "      <td>1</td>\n",
       "      <td>700</td>\n",
       "      <td>1032</td>\n",
       "      <td>AA</td>\n",
       "      <td>553</td>\n",
       "      <td>N154UW</td>\n",
       "      <td>120.0</td>\n",
       "      <td>152.0</td>\n",
       "      <td>...</td>\n",
       "      <td>6.0</td>\n",
       "      <td>9.0</td>\n",
       "      <td>0</td>\n",
       "      <td>NaN</td>\n",
       "      <td>0</td>\n",
       "      <td>0.0</td>\n",
       "      <td>0.0</td>\n",
       "      <td>0.0</td>\n",
       "      <td>0.0</td>\n",
       "      <td>537.0</td>\n",
       "    </tr>\n",
       "    <tr>\n",
       "      <th>3741</th>\n",
       "      <td>3</td>\n",
       "      <td>7</td>\n",
       "      <td>4</td>\n",
       "      <td>720</td>\n",
       "      <td>1005</td>\n",
       "      <td>AA</td>\n",
       "      <td>572</td>\n",
       "      <td>N740UW</td>\n",
       "      <td>314.0</td>\n",
       "      <td>285.0</td>\n",
       "      <td>...</td>\n",
       "      <td>10.0</td>\n",
       "      <td>17.0</td>\n",
       "      <td>0</td>\n",
       "      <td>NaN</td>\n",
       "      <td>0</td>\n",
       "      <td>1444.0</td>\n",
       "      <td>0.0</td>\n",
       "      <td>29.0</td>\n",
       "      <td>0.0</td>\n",
       "      <td>0.0</td>\n",
       "    </tr>\n",
       "    <tr>\n",
       "      <th>...</th>\n",
       "      <td>...</td>\n",
       "      <td>...</td>\n",
       "      <td>...</td>\n",
       "      <td>...</td>\n",
       "      <td>...</td>\n",
       "      <td>...</td>\n",
       "      <td>...</td>\n",
       "      <td>...</td>\n",
       "      <td>...</td>\n",
       "      <td>...</td>\n",
       "      <td>...</td>\n",
       "      <td>...</td>\n",
       "      <td>...</td>\n",
       "      <td>...</td>\n",
       "      <td>...</td>\n",
       "      <td>...</td>\n",
       "      <td>...</td>\n",
       "      <td>...</td>\n",
       "      <td>...</td>\n",
       "      <td>...</td>\n",
       "      <td>...</td>\n",
       "    </tr>\n",
       "    <tr>\n",
       "      <th>7371406</th>\n",
       "      <td>8</td>\n",
       "      <td>9</td>\n",
       "      <td>5</td>\n",
       "      <td>2226</td>\n",
       "      <td>619</td>\n",
       "      <td>AA</td>\n",
       "      <td>1929</td>\n",
       "      <td>N190UW</td>\n",
       "      <td>283.0</td>\n",
       "      <td>293.0</td>\n",
       "      <td>...</td>\n",
       "      <td>6.0</td>\n",
       "      <td>24.0</td>\n",
       "      <td>0</td>\n",
       "      <td>NaN</td>\n",
       "      <td>0</td>\n",
       "      <td>17.0</td>\n",
       "      <td>0.0</td>\n",
       "      <td>0.0</td>\n",
       "      <td>0.0</td>\n",
       "      <td>805.0</td>\n",
       "    </tr>\n",
       "    <tr>\n",
       "      <th>7371597</th>\n",
       "      <td>8</td>\n",
       "      <td>13</td>\n",
       "      <td>2</td>\n",
       "      <td>2232</td>\n",
       "      <td>614</td>\n",
       "      <td>AA</td>\n",
       "      <td>1936</td>\n",
       "      <td>N915US</td>\n",
       "      <td>269.0</td>\n",
       "      <td>282.0</td>\n",
       "      <td>...</td>\n",
       "      <td>11.0</td>\n",
       "      <td>17.0</td>\n",
       "      <td>0</td>\n",
       "      <td>NaN</td>\n",
       "      <td>0</td>\n",
       "      <td>727.0</td>\n",
       "      <td>0.0</td>\n",
       "      <td>0.0</td>\n",
       "      <td>0.0</td>\n",
       "      <td>53.0</td>\n",
       "    </tr>\n",
       "    <tr>\n",
       "      <th>7372431</th>\n",
       "      <td>8</td>\n",
       "      <td>3</td>\n",
       "      <td>6</td>\n",
       "      <td>1144</td>\n",
       "      <td>1533</td>\n",
       "      <td>AA</td>\n",
       "      <td>1961</td>\n",
       "      <td>N654AW</td>\n",
       "      <td>174.0</td>\n",
       "      <td>169.0</td>\n",
       "      <td>...</td>\n",
       "      <td>15.0</td>\n",
       "      <td>23.0</td>\n",
       "      <td>0</td>\n",
       "      <td>NaN</td>\n",
       "      <td>0</td>\n",
       "      <td>1238.0</td>\n",
       "      <td>0.0</td>\n",
       "      <td>5.0</td>\n",
       "      <td>0.0</td>\n",
       "      <td>0.0</td>\n",
       "    </tr>\n",
       "    <tr>\n",
       "      <th>7373838</th>\n",
       "      <td>8</td>\n",
       "      <td>16</td>\n",
       "      <td>5</td>\n",
       "      <td>600</td>\n",
       "      <td>647</td>\n",
       "      <td>AA</td>\n",
       "      <td>2005</td>\n",
       "      <td>N649AW</td>\n",
       "      <td>160.0</td>\n",
       "      <td>167.0</td>\n",
       "      <td>...</td>\n",
       "      <td>6.0</td>\n",
       "      <td>11.0</td>\n",
       "      <td>0</td>\n",
       "      <td>NaN</td>\n",
       "      <td>0</td>\n",
       "      <td>0.0</td>\n",
       "      <td>0.0</td>\n",
       "      <td>0.0</td>\n",
       "      <td>0.0</td>\n",
       "      <td>504.0</td>\n",
       "    </tr>\n",
       "    <tr>\n",
       "      <th>7373872</th>\n",
       "      <td>8</td>\n",
       "      <td>19</td>\n",
       "      <td>1</td>\n",
       "      <td>700</td>\n",
       "      <td>859</td>\n",
       "      <td>AA</td>\n",
       "      <td>2006</td>\n",
       "      <td>N403AN</td>\n",
       "      <td>288.0</td>\n",
       "      <td>299.0</td>\n",
       "      <td>...</td>\n",
       "      <td>8.0</td>\n",
       "      <td>18.0</td>\n",
       "      <td>0</td>\n",
       "      <td>NaN</td>\n",
       "      <td>0</td>\n",
       "      <td>0.0</td>\n",
       "      <td>0.0</td>\n",
       "      <td>0.0</td>\n",
       "      <td>0.0</td>\n",
       "      <td>846.0</td>\n",
       "    </tr>\n",
       "  </tbody>\n",
       "</table>\n",
       "<p>10273 rows × 26 columns</p>\n",
       "</div>"
      ],
      "text/plain": [
       "         Month  DayofMonth  DayOfWeek  CRSDepTime  CRSArrTime  \\\n",
       "527          3           3          7        1615        1907   \n",
       "1203         3          16          6        1712        1855   \n",
       "2242         3          27          3         840         922   \n",
       "3105         3          11          1         700        1032   \n",
       "3741         3           7          4         720        1005   \n",
       "...        ...         ...        ...         ...         ...   \n",
       "7371406      8           9          5        2226         619   \n",
       "7371597      8          13          2        2232         614   \n",
       "7372431      8           3          6        1144        1533   \n",
       "7373838      8          16          5         600         647   \n",
       "7373872      8          19          1         700         859   \n",
       "\n",
       "        Reporting_Airline Flight_Number_Reporting_Airline Tail_Number  \\\n",
       "527                    AA                             470      N662AW   \n",
       "1203                   AA                             488      N821AW   \n",
       "2242                   AA                             520      N153UW   \n",
       "3105                   AA                             553      N154UW   \n",
       "3741                   AA                             572      N740UW   \n",
       "...                   ...                             ...         ...   \n",
       "7371406                AA                            1929      N190UW   \n",
       "7371597                AA                            1936      N915US   \n",
       "7372431                AA                            1961      N654AW   \n",
       "7373838                AA                            2005      N649AW   \n",
       "7373872                AA                            2006      N403AN   \n",
       "\n",
       "         ActualElapsedTime  CRSElapsedTime  ...  TaxiIn  TaxiOut  Cancelled  \\\n",
       "527                  106.0           112.0  ...     6.0     15.0          0   \n",
       "1203                 282.0           283.0  ...    37.0      5.0          0   \n",
       "2242                 145.0           162.0  ...     7.0     15.0          0   \n",
       "3105                 120.0           152.0  ...     6.0      9.0          0   \n",
       "3741                 314.0           285.0  ...    10.0     17.0          0   \n",
       "...                    ...             ...  ...     ...      ...        ...   \n",
       "7371406              283.0           293.0  ...     6.0     24.0          0   \n",
       "7371597              269.0           282.0  ...    11.0     17.0          0   \n",
       "7372431              174.0           169.0  ...    15.0     23.0          0   \n",
       "7373838              160.0           167.0  ...     6.0     11.0          0   \n",
       "7373872              288.0           299.0  ...     8.0     18.0          0   \n",
       "\n",
       "        CancellationCode Diverted  CarrierDelay  WeatherDelay  NASDelay  \\\n",
       "527                  NaN        0        1561.0           0.0       0.0   \n",
       "1203                 NaN        0         837.0           0.0       0.0   \n",
       "2242                 NaN        0          76.0           0.0       0.0   \n",
       "3105                 NaN        0           0.0           0.0       0.0   \n",
       "3741                 NaN        0        1444.0           0.0      29.0   \n",
       "...                  ...      ...           ...           ...       ...   \n",
       "7371406              NaN        0          17.0           0.0       0.0   \n",
       "7371597              NaN        0         727.0           0.0       0.0   \n",
       "7372431              NaN        0        1238.0           0.0       5.0   \n",
       "7373838              NaN        0           0.0           0.0       0.0   \n",
       "7373872              NaN        0           0.0           0.0       0.0   \n",
       "\n",
       "         SecurityDelay LateAircraftDelay  \n",
       "527                0.0               0.0  \n",
       "1203               0.0               0.0  \n",
       "2242               0.0             461.0  \n",
       "3105               0.0             537.0  \n",
       "3741               0.0               0.0  \n",
       "...                ...               ...  \n",
       "7371406            0.0             805.0  \n",
       "7371597            0.0              53.0  \n",
       "7372431            0.0               0.0  \n",
       "7373838            0.0             504.0  \n",
       "7373872            0.0             846.0  \n",
       "\n",
       "[10273 rows x 26 columns]"
      ]
     },
     "execution_count": 142,
     "metadata": {},
     "output_type": "execute_result"
    }
   ],
   "source": [
    "flights[(flights.ArrDelay > 500) | (flights.DepDelay > 500)]"
   ]
  },
  {
   "cell_type": "markdown",
   "metadata": {},
   "source": [
    "### Discuss the distribution(s) of your variable(s) of interest. Were there any unusual points? Did you need to perform any transformations?\n",
    "\n",
    "> Your answer here!\n",
    "\n",
    "### Of the features you investigated, were there any unusual distributions? Did you perform any operations on the data to tidy, adjust, or change the form of the data? If so, why did you do this?\n",
    "\n",
    "> Your answer here!"
   ]
  },
  {
   "cell_type": "markdown",
   "metadata": {},
   "source": [
    "## Bivariate Exploration\n",
    "\n",
    "> In this section, investigate relationships between pairs of variables in your\n",
    "data. Make sure the variables that you cover here have been introduced in some\n",
    "fashion in the previous section (univariate exploration)."
   ]
  },
  {
   "cell_type": "code",
   "execution_count": null,
   "metadata": {},
   "outputs": [],
   "source": []
  },
  {
   "cell_type": "markdown",
   "metadata": {},
   "source": [
    "### Talk about some of the relationships you observed in this part of the investigation. How did the feature(s) of interest vary with other features in the dataset?\n",
    "\n",
    "> Your answer here!\n",
    "\n",
    "### Did you observe any interesting relationships between the other features (not the main feature(s) of interest)?\n",
    "\n",
    "> Your answer here!"
   ]
  },
  {
   "cell_type": "markdown",
   "metadata": {},
   "source": [
    "## Multivariate Exploration\n",
    "\n",
    "> Create plots of three or more variables to investigate your data even\n",
    "further. Make sure that your investigations are justified, and follow from\n",
    "your work in the previous sections."
   ]
  },
  {
   "cell_type": "code",
   "execution_count": null,
   "metadata": {},
   "outputs": [],
   "source": []
  },
  {
   "cell_type": "markdown",
   "metadata": {},
   "source": [
    "### Talk about some of the relationships you observed in this part of the investigation. Were there features that strengthened each other in terms of looking at your feature(s) of interest?\n",
    "\n",
    "> Your answer here!\n",
    "\n",
    "### Were there any interesting or surprising interactions between features?\n",
    "\n",
    "> Your answer here!"
   ]
  },
  {
   "cell_type": "markdown",
   "metadata": {},
   "source": [
    "> At the end of your report, make sure that you export the notebook as an\n",
    "html file from the `File > Download as... > HTML` menu. Make sure you keep\n",
    "track of where the exported file goes, so you can put it in the same folder\n",
    "as this notebook for project submission. Also, make sure you remove all of\n",
    "the quote-formatted guide notes like this one before you finish your report!"
   ]
  },
  {
   "cell_type": "code",
   "execution_count": null,
   "metadata": {},
   "outputs": [],
   "source": []
  }
 ],
 "metadata": {
  "kernelspec": {
   "display_name": "Python 3",
   "language": "python",
   "name": "python3"
  },
  "language_info": {
   "codemirror_mode": {
    "name": "ipython",
    "version": 3
   },
   "file_extension": ".py",
   "mimetype": "text/x-python",
   "name": "python",
   "nbconvert_exporter": "python",
   "pygments_lexer": "ipython3",
   "version": "3.7.6"
  }
 },
 "nbformat": 4,
 "nbformat_minor": 2
}
